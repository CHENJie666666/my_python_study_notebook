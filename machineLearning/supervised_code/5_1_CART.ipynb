{
 "cells": [
  {
   "cell_type": "markdown",
   "source": [
    "### CART"
   ],
   "metadata": {}
  },
  {
   "cell_type": "code",
   "execution_count": 1,
   "source": [
    "import numpy as np\r\n",
    "from sklearn.model_selection import train_test_split\r\n",
    "from sklearn.metrics import accuracy_score, mean_squared_error"
   ],
   "outputs": [],
   "metadata": {}
  },
  {
   "cell_type": "code",
   "execution_count": null,
   "source": [
    "### 定义二叉特征分裂函数\r\n",
    "def feature_split(X, feature_i, threshold):\r\n",
    "    split_func = None\r\n",
    "    if isinstance(threshold, int) or isinstance(threshold, float):\r\n",
    "        split_func = lambda sample: sample[feature_i] >= threshold\r\n",
    "    else:\r\n",
    "        split_func = lambda sample: sample[feature_i] == threshold\r\n",
    "\r\n",
    "    X_left = np.array([sample for sample in X if split_func(sample)])\r\n",
    "    X_right = np.array([sample for sample in X if not split_func(sample)])\r\n",
    "\r\n",
    "    return np.array([X_left, X_right])\r\n",
    "\r\n",
    "### 计算基尼指数\r\n",
    "def calculate_gini(y):\r\n",
    "    # 将数组转化为列表\r\n",
    "    y = y.tolist()\r\n",
    "    probs = [y.count(i)/len(y) for i in np.unique(y)]\r\n",
    "    gini = sum([p*(1-p) for p in probs])\r\n",
    "    return gini"
   ],
   "outputs": [],
   "metadata": {}
  },
  {
   "cell_type": "code",
   "execution_count": 2,
   "source": [
    "### 定义树结点\r\n",
    "class TreeNode():\r\n",
    "    def __init__(self, feature_i=None, threshold=None,\r\n",
    "                 leaf_value=None, left_branch=None, right_branch=None):\r\n",
    "        # 特征索引\r\n",
    "        self.feature_i = feature_i          \r\n",
    "        # 特征划分阈值\r\n",
    "        self.threshold = threshold \r\n",
    "        # 叶子节点取值\r\n",
    "        self.leaf_value = leaf_value   \r\n",
    "        # 左子树\r\n",
    "        self.left_branch = left_branch     \r\n",
    "        # 右子树\r\n",
    "        self.right_branch = right_branch    "
   ],
   "outputs": [],
   "metadata": {}
  },
  {
   "cell_type": "code",
   "execution_count": 3,
   "source": [
    "### 定义二叉决策树\r\n",
    "class BinaryDecisionTree(object):\r\n",
    "    ### 决策树初始参数\r\n",
    "    def __init__(self, min_samples_split=2, min_gini_impurity=999,\r\n",
    "                 max_depth=float(\"inf\"), loss=None):\r\n",
    "        # 根结点\r\n",
    "        self.root = None  \r\n",
    "        # 节点最小分裂样本数\r\n",
    "        self.min_samples_split = min_samples_split\r\n",
    "        # 节点初始化基尼不纯度\r\n",
    "        self.mini_gini_impurity = min_gini_impurity\r\n",
    "        # 树最大深度\r\n",
    "        self.max_depth = max_depth\r\n",
    "        # 基尼不纯度计算函数\r\n",
    "        self.gini_impurity_calculation = None\r\n",
    "        # 叶子节点值预测函数\r\n",
    "        self._leaf_value_calculation = None\r\n",
    "        # 损失函数\r\n",
    "        self.loss = loss\r\n",
    "\r\n",
    "    ### 决策树拟合函数\r\n",
    "    def fit(self, X, y, loss=None):\r\n",
    "        # 递归构建决策树\r\n",
    "        self.root = self._build_tree(X, y)\r\n",
    "        self.loss=None\r\n",
    "\r\n",
    "    ### 决策树构建函数\r\n",
    "    def _build_tree(self, X, y, current_depth=0):\r\n",
    "        # 初始化最小基尼不纯度\r\n",
    "        init_gini_impurity = 999\r\n",
    "        # 初始化最佳特征索引和阈值\r\n",
    "        best_criteria = None    \r\n",
    "        # 初始化数据子集\r\n",
    "        best_sets = None        \r\n",
    "\r\n",
    "        # 合并输入和标签\r\n",
    "        Xy = np.concatenate((X, y), axis=1)\r\n",
    "        # 获取样本数和特征数\r\n",
    "        n_samples, n_features = X.shape\r\n",
    "        # 设定决策树构建条件\r\n",
    "        # 训练样本数量大于节点最小分裂样本数且当前树深度小于最大深度\r\n",
    "        if n_samples >= self.min_samples_split and current_depth <= self.max_depth:\r\n",
    "            # 遍历计算每个特征的基尼不纯度\r\n",
    "            for feature_i in range(n_features):\r\n",
    "                # 获取第i特征的所有取值\r\n",
    "                feature_values = np.expand_dims(X[:, feature_i], axis=1)\r\n",
    "                # 获取第i个特征的唯一取值\r\n",
    "                unique_values = np.unique(feature_values)\r\n",
    "\r\n",
    "                # 遍历取值并寻找最佳特征分裂阈值\r\n",
    "                for threshold in unique_values:\r\n",
    "                    # 特征节点二叉分裂\r\n",
    "                    Xy1, Xy2 = feature_split(Xy, feature_i, threshold)\r\n",
    "                    # 如果分裂后的子集大小都不为0\r\n",
    "                    if len(Xy1) > 0 and len(Xy2) > 0:\r\n",
    "                        # 获取两个子集的标签值\r\n",
    "                        y1 = Xy1[:, n_features:]\r\n",
    "                        y2 = Xy2[:, n_features:]\r\n",
    "\r\n",
    "                        # 计算基尼不纯度\r\n",
    "                        impurity = self.impurity_calculation(y, y1, y2)\r\n",
    "\r\n",
    "                        # 获取最小基尼不纯度\r\n",
    "                        # 最佳特征索引和分裂阈值\r\n",
    "                        if impurity < init_gini_impurity:\r\n",
    "                            init_gini_impurity = impurity\r\n",
    "                            best_criteria = {\"feature_i\": feature_i, \"threshold\": threshold}\r\n",
    "                            best_sets = {\r\n",
    "                                \"leftX\": Xy1[:, :n_features],   \r\n",
    "                                \"lefty\": Xy1[:, n_features:],   \r\n",
    "                                \"rightX\": Xy2[:, :n_features],  \r\n",
    "                                \"righty\": Xy2[:, n_features:]   \r\n",
    "                                }\r\n",
    "        \r\n",
    "        # 如果计算的最小不纯度小于设定的最小不纯度\r\n",
    "        if init_gini_impurity < self.mini_gini_impurity:\r\n",
    "            # 分别构建左右子树\r\n",
    "            left_branch = self._build_tree(best_sets[\"leftX\"], best_sets[\"lefty\"], current_depth + 1)\r\n",
    "            right_branch = self._build_tree(best_sets[\"rightX\"], best_sets[\"righty\"], current_depth + 1)\r\n",
    "            return TreeNode(feature_i=best_criteria[\"feature_i\"], threshold=best_criteria[\r\n",
    "                                \"threshold\"], left_branch=left_branch, right_branch=right_branch)\r\n",
    "\r\n",
    "        # 计算叶子计算取值\r\n",
    "        leaf_value = self._leaf_value_calculation(y)\r\n",
    "\r\n",
    "        return TreeNode(leaf_value=leaf_value)\r\n",
    "\r\n",
    "    ### 定义二叉树值预测函数\r\n",
    "    def predict_value(self, x, tree=None):\r\n",
    "        if tree is None:\r\n",
    "            tree = self.root\r\n",
    "\r\n",
    "        # 如果叶子节点已有值，则直接返回已有值\r\n",
    "        if tree.leaf_value is not None:\r\n",
    "            return tree.leaf_value\r\n",
    "\r\n",
    "        # 选择特征并获取特征值\r\n",
    "        feature_value = x[tree.feature_i]\r\n",
    "\r\n",
    "        # 判断落入左子树还是右子树\r\n",
    "        branch = tree.right_branch\r\n",
    "        if isinstance(feature_value, int) or isinstance(feature_value, float):\r\n",
    "            if feature_value >= tree.threshold:\r\n",
    "                branch = tree.left_branch\r\n",
    "        elif feature_value == tree.threshold:\r\n",
    "            branch = tree.left_branch\r\n",
    "\r\n",
    "        # 测试子集\r\n",
    "        return self.predict_value(x, branch)\r\n",
    "\r\n",
    "    ### 数据集预测函数\r\n",
    "    def predict(self, X):\r\n",
    "        y_pred = [self.predict_value(sample) for sample in X]\r\n",
    "        return y_pred"
   ],
   "outputs": [],
   "metadata": {}
  },
  {
   "cell_type": "code",
   "execution_count": 4,
   "source": [
    "### CART回归树\r\n",
    "class RegressionTree(BinaryDecisionTree):\r\n",
    "    def _calculate_variance_reduction(self, y, y1, y2):\r\n",
    "        var_tot = np.var(y, axis=0)\r\n",
    "        var_y1 = np.var(y1, axis=0)\r\n",
    "        var_y2 = np.var(y2, axis=0)\r\n",
    "        frac_1 = len(y1) / len(y)\r\n",
    "        frac_2 = len(y2) / len(y)\r\n",
    "        # 计算方差减少量\r\n",
    "        variance_reduction = var_tot - (frac_1 * var_y1 + frac_2 * var_y2)\r\n",
    "        \r\n",
    "        return sum(variance_reduction)\r\n",
    "\r\n",
    "    # 节点值取平均\r\n",
    "    def _mean_of_y(self, y):\r\n",
    "        value = np.mean(y, axis=0)\r\n",
    "        return value if len(value) > 1 else value[0]\r\n",
    "\r\n",
    "    def fit(self, X, y):\r\n",
    "        self.impurity_calculation = self._calculate_variance_reduction\r\n",
    "        self._leaf_value_calculation = self._mean_of_y\r\n",
    "        super(RegressionTree, self).fit(X, y)"
   ],
   "outputs": [],
   "metadata": {}
  },
  {
   "cell_type": "code",
   "execution_count": 5,
   "source": [
    "### CART决策树\r\n",
    "class ClassificationTree(BinaryDecisionTree):\r\n",
    "    ### 定义基尼不纯度计算过程\r\n",
    "    def _calculate_gini_impurity(self, y, y1, y2):\r\n",
    "        p = len(y1) / len(y)\r\n",
    "        gini = calculate_gini(y)\r\n",
    "        gini_impurity = p * calculate_gini(y1) + (1-p) * calculate_gini(y2)\r\n",
    "        return gini_impurity\r\n",
    "    \r\n",
    "    ### 多数投票\r\n",
    "    def _majority_vote(self, y):\r\n",
    "        most_common = None\r\n",
    "        max_count = 0\r\n",
    "        for label in np.unique(y):\r\n",
    "            # 统计多数\r\n",
    "            count = len(y[y == label])\r\n",
    "            if count > max_count:\r\n",
    "                most_common = label\r\n",
    "                max_count = count\r\n",
    "        return most_common\r\n",
    "    \r\n",
    "    # 分类树拟合\r\n",
    "    def fit(self, X, y):\r\n",
    "        self.impurity_calculation = self._calculate_gini_impurity\r\n",
    "        self._leaf_value_calculation = self._majority_vote\r\n",
    "        super(ClassificationTree, self).fit(X, y)"
   ],
   "outputs": [],
   "metadata": {}
  },
  {
   "cell_type": "code",
   "execution_count": 6,
   "source": [
    "from sklearn import datasets\r\n",
    "data = datasets.load_iris()\r\n",
    "X, y = data.data, data.target\r\n",
    "y = y.reshape(-1,1)\r\n",
    "X_train, X_test, y_train, y_test = train_test_split(X, y.reshape(-1,1), test_size=0.3)\r\n",
    "clf = ClassificationTree()\r\n",
    "clf.fit(X_train, y_train)\r\n",
    "y_pred = clf.predict(X_test)\r\n",
    "\r\n",
    "print(accuracy_score(y_test, y_pred))"
   ],
   "outputs": [
    {
     "output_type": "stream",
     "name": "stdout",
     "text": [
      "0.9777777777777777\n"
     ]
    }
   ],
   "metadata": {}
  },
  {
   "cell_type": "code",
   "execution_count": 7,
   "source": [
    "from sklearn.tree import DecisionTreeClassifier\n",
    "clf = DecisionTreeClassifier()\n",
    "clf.fit(X_train, y_train)\n",
    "y_pred = clf.predict(X_test)\n",
    "\n",
    "print(accuracy_score(y_test, y_pred))"
   ],
   "outputs": [
    {
     "output_type": "stream",
     "name": "stdout",
     "text": [
      "1.0\n"
     ]
    }
   ],
   "metadata": {}
  },
  {
   "cell_type": "code",
   "execution_count": 8,
   "source": [
    "from sklearn.datasets import load_boston\n",
    "X, y = load_boston(return_X_y=True)\n",
    "X_train, X_test, y_train, y_test = train_test_split(X, y, test_size=0.3)\n",
    "model = RegressionTree()\n",
    "model.fit(X_train, y_train)\n",
    "y_pred = model.predict(X_test)\n",
    "mse = mean_squared_error(y_test, y_pred)\n",
    "\n",
    "print(\"Mean Squared Error:\", mse)"
   ],
   "outputs": [
    {
     "output_type": "stream",
     "name": "stdout",
     "text": [
      "Mean Squared Error: 134.4803289473684\n"
     ]
    }
   ],
   "metadata": {}
  },
  {
   "cell_type": "code",
   "execution_count": 9,
   "source": [
    "from sklearn.tree import DecisionTreeRegressor\n",
    "reg = DecisionTreeRegressor()\n",
    "reg.fit(X_train, y_train)\n",
    "y_pred = reg.predict(X_test)\n",
    "mse = mean_squared_error(y_test, y_pred)\n",
    "\n",
    "print(\"Mean Squared Error:\", mse)"
   ],
   "outputs": [
    {
     "output_type": "stream",
     "name": "stdout",
     "text": [
      "Mean Squared Error: 28.75368421052632\n"
     ]
    }
   ],
   "metadata": {}
  },
  {
   "cell_type": "code",
   "execution_count": null,
   "source": [],
   "outputs": [],
   "metadata": {}
  }
 ],
 "metadata": {
  "kernelspec": {
   "display_name": "Python 3",
   "language": "python",
   "name": "python3"
  },
  "language_info": {
   "codemirror_mode": {
    "name": "ipython",
    "version": 3
   },
   "file_extension": ".py",
   "mimetype": "text/x-python",
   "name": "python",
   "nbconvert_exporter": "python",
   "pygments_lexer": "ipython3",
   "version": "3.8.8"
  },
  "toc": {
   "base_numbering": 1,
   "nav_menu": {},
   "number_sections": true,
   "sideBar": true,
   "skip_h1_title": false,
   "title_cell": "Table of Contents",
   "title_sidebar": "Contents",
   "toc_cell": false,
   "toc_position": {},
   "toc_section_display": true,
   "toc_window_display": false
  }
 },
 "nbformat": 4,
 "nbformat_minor": 2
}